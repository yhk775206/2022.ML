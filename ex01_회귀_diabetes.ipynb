{
  "nbformat": 4,
  "nbformat_minor": 0,
  "metadata": {
    "colab": {
      "provenance": [],
      "mount_file_id": "1GPs6FfEI68_1bgGLfDpu6m2BMDKgv9kN",
      "authorship_tag": "ABX9TyMdEVRIu1Ddc11O/myKfMhJ",
      "include_colab_link": true
    },
    "kernelspec": {
      "name": "python3",
      "display_name": "Python 3"
    },
    "language_info": {
      "name": "python"
    }
  },
  "cells": [
    {
      "cell_type": "markdown",
      "metadata": {
        "id": "view-in-github",
        "colab_type": "text"
      },
      "source": [
        "<a href=\"https://colab.research.google.com/github/yhk775206/2022.ML/blob/main/ex01_%ED%9A%8C%EA%B7%80_diabetes.ipynb\" target=\"_parent\"><img src=\"https://colab.research.google.com/assets/colab-badge.svg\" alt=\"Open In Colab\"/></a>"
      ]
    },
    {
      "cell_type": "code",
      "execution_count": null,
      "metadata": {
        "id": "S4dAVVe4wr_z"
      },
      "outputs": [],
      "source": [
        "import numpy as np\n",
        "import matplotlib.pyplot as plt"
      ]
    },
    {
      "cell_type": "markdown",
      "source": [
        "### 1) 데이터 수집"
      ],
      "metadata": {
        "id": "4U7irtkIyiD7"
      }
    },
    {
      "cell_type": "code",
      "source": [
        "from sklearn.datasets import load_diabetes\n",
        "\n",
        "diabetes = load_diabetes()"
      ],
      "metadata": {
        "id": "TIno2uVfxGlI"
      },
      "execution_count": null,
      "outputs": []
    },
    {
      "cell_type": "code",
      "source": [
        "print(diabetes.feature_names)\n",
        "print(diabetes.DESCR)\n",
        "\n",
        "print(diabetes[\"data\"].shape)\n",
        "print(diabetes[\"target\"].shape)"
      ],
      "metadata": {
        "colab": {
          "base_uri": "https://localhost:8080/"
        },
        "id": "1Q0ZRI6yxMjn",
        "outputId": "a326baa7-aa3c-4a37-8be9-d93de0c8dd7c"
      },
      "execution_count": null,
      "outputs": [
        {
          "output_type": "stream",
          "name": "stdout",
          "text": [
            "['age', 'sex', 'bmi', 'bp', 's1', 's2', 's3', 's4', 's5', 's6']\n",
            ".. _diabetes_dataset:\n",
            "\n",
            "Diabetes dataset\n",
            "----------------\n",
            "\n",
            "Ten baseline variables, age, sex, body mass index, average blood\n",
            "pressure, and six blood serum measurements were obtained for each of n =\n",
            "442 diabetes patients, as well as the response of interest, a\n",
            "quantitative measure of disease progression one year after baseline.\n",
            "\n",
            "**Data Set Characteristics:**\n",
            "\n",
            "  :Number of Instances: 442\n",
            "\n",
            "  :Number of Attributes: First 10 columns are numeric predictive values\n",
            "\n",
            "  :Target: Column 11 is a quantitative measure of disease progression one year after baseline\n",
            "\n",
            "  :Attribute Information:\n",
            "      - age     age in years\n",
            "      - sex\n",
            "      - bmi     body mass index\n",
            "      - bp      average blood pressure\n",
            "      - s1      tc, total serum cholesterol\n",
            "      - s2      ldl, low-density lipoproteins\n",
            "      - s3      hdl, high-density lipoproteins\n",
            "      - s4      tch, total cholesterol / HDL\n",
            "      - s5      ltg, possibly log of serum triglycerides level\n",
            "      - s6      glu, blood sugar level\n",
            "\n",
            "Note: Each of these 10 feature variables have been mean centered and scaled by the standard deviation times `n_samples` (i.e. the sum of squares of each column totals 1).\n",
            "\n",
            "Source URL:\n",
            "https://www4.stat.ncsu.edu/~boos/var.select/diabetes.html\n",
            "\n",
            "For more information see:\n",
            "Bradley Efron, Trevor Hastie, Iain Johnstone and Robert Tibshirani (2004) \"Least Angle Regression,\" Annals of Statistics (with discussion), 407-499.\n",
            "(https://web.stanford.edu/~hastie/Papers/LARS/LeastAngle_2002.pdf)\n",
            "(442, 10)\n",
            "(442,)\n"
          ]
        }
      ]
    },
    {
      "cell_type": "code",
      "source": [
        "x, y = diabetes[\"data\"], diabetes[\"target\"]"
      ],
      "metadata": {
        "id": "yUko2UYdxw02"
      },
      "execution_count": null,
      "outputs": []
    },
    {
      "cell_type": "code",
      "source": [
        "print(x.shape)"
      ],
      "metadata": {
        "colab": {
          "base_uri": "https://localhost:8080/"
        },
        "id": "bhY9utm37wCb",
        "outputId": "5b9ea490-8b87-4e1c-abce-a5adb59c714a"
      },
      "execution_count": null,
      "outputs": [
        {
          "output_type": "stream",
          "name": "stdout",
          "text": [
            "(442, 10)\n"
          ]
        }
      ]
    },
    {
      "cell_type": "markdown",
      "source": [
        "### 2) 특징 추출"
      ],
      "metadata": {
        "id": "EXF7ZXElyldE"
      }
    },
    {
      "cell_type": "code",
      "source": [
        "from sklearn.model_selection import train_test_split\n",
        "\n",
        "train_x, test_x, train_y, test_y = train_test_split(x, y, test_size=0.2)"
      ],
      "metadata": {
        "id": "yH2iYOr1ygl2"
      },
      "execution_count": null,
      "outputs": []
    },
    {
      "cell_type": "code",
      "source": [
        "print(train_x.shape)"
      ],
      "metadata": {
        "colab": {
          "base_uri": "https://localhost:8080/"
        },
        "id": "iZEe_kMCMxlj",
        "outputId": "ef15b3ff-c1de-48c4-fba4-8b543064f036"
      },
      "execution_count": null,
      "outputs": [
        {
          "output_type": "stream",
          "name": "stdout",
          "text": [
            "(353, 10)\n"
          ]
        }
      ]
    },
    {
      "cell_type": "code",
      "source": [
        "len(x), len(train_x), len(test_x), len(train_y), len(test_y)"
      ],
      "metadata": {
        "colab": {
          "base_uri": "https://localhost:8080/"
        },
        "id": "rM1oEK_Ly7T4",
        "outputId": "cc5d48a9-8462-4032-eaee-0e5e59c7d04e"
      },
      "execution_count": null,
      "outputs": [
        {
          "output_type": "execute_result",
          "data": {
            "text/plain": [
              "(442, 353, 89, 353, 89)"
            ]
          },
          "metadata": {},
          "execution_count": 8
        }
      ]
    },
    {
      "cell_type": "markdown",
      "source": [
        "### 3) 모델 설계, loss 함수 결정, 훈련"
      ],
      "metadata": {
        "id": "DiqxVoKezEKf"
      }
    },
    {
      "cell_type": "code",
      "source": [
        "from sklearn.linear_model import LinearRegression\n",
        "\n",
        "regressor = LinearRegression()\n",
        "regressor.fit(train_x, train_y)"
      ],
      "metadata": {
        "colab": {
          "base_uri": "https://localhost:8080/"
        },
        "id": "6B3H3IVzzDb8",
        "outputId": "d5b26124-3c00-4c45-d452-af75a4b48483"
      },
      "execution_count": null,
      "outputs": [
        {
          "output_type": "execute_result",
          "data": {
            "text/plain": [
              "LinearRegression()"
            ]
          },
          "metadata": {},
          "execution_count": 9
        }
      ]
    },
    {
      "cell_type": "markdown",
      "source": [
        "$ y = \\theta_0 + \\theta_1 x_1 + \\theta_2 x_2 + ... +\\theta_{10} x_{10} $"
      ],
      "metadata": {
        "id": "dTrsPMvx2KQc"
      }
    },
    {
      "cell_type": "code",
      "source": [
        "coef = regressor.coef_  \n",
        "intercept = regressor.intercept_  # theta0\n",
        "print('coef= ', coef)\n",
        "print('intercept= ', intercept)"
      ],
      "metadata": {
        "colab": {
          "base_uri": "https://localhost:8080/"
        },
        "id": "_DjAv9HIzXjG",
        "outputId": "24c1139a-94a6-421b-cdc7-bf5cf73196b8"
      },
      "execution_count": null,
      "outputs": [
        {
          "output_type": "stream",
          "name": "stdout",
          "text": [
            "coef=  [  35.8323495  -234.70083977  518.13142111  312.97283999 -754.36218477\n",
            "  485.01752711   47.56300019  100.07036661  741.47322818   31.97319551]\n",
            "intercept=  149.81021110838873\n"
          ]
        }
      ]
    },
    {
      "cell_type": "code",
      "source": [
        "train_pred = regressor.predict(train_x)\n",
        "test_pred = regressor.predict(test_x)\n",
        "print(train_pred, test_pred)"
      ],
      "metadata": {
        "colab": {
          "base_uri": "https://localhost:8080/"
        },
        "id": "7Nd5UpaVzZb1",
        "outputId": "b7e57c99-eccb-4d76-d2b5-430f6b7022eb"
      },
      "execution_count": null,
      "outputs": [
        {
          "output_type": "stream",
          "name": "stdout",
          "text": [
            "[167.43680807  68.45997224 113.56051666 135.88196827  59.32374463\n",
            " 153.71033104 222.22710411 115.62346775 148.42269809 153.79438054\n",
            " 100.79426509 186.14016259 180.73855267 107.96377914  69.89138675\n",
            "  83.97369649 160.00977543 174.11619541 282.46568342 155.97781008\n",
            " 145.09941992 127.49246443 211.28072836  88.99958947 199.15594455\n",
            "  76.43256441  95.81711211 209.96660699 203.36420667 173.78457994\n",
            " 215.22359483 115.445516   216.71104651 174.67886974  78.01585074\n",
            " 236.69439835 156.84955565 166.47660157 104.27173881 174.95813021\n",
            " 193.08416353 123.0747188   46.83645113 197.24215408 256.99071556\n",
            " 250.32661331 155.6847908  178.25253442  88.55082595  81.64281249\n",
            " 145.71704251 175.66346124  77.6406777  155.32487114 231.6802266\n",
            "  67.9975113  162.93605124 175.41628785 174.62553986 149.32317436\n",
            " 261.84186876 287.01495773 114.71977819  38.15440011  73.27076757\n",
            " 168.15040448 114.41444058  98.23285908 229.88809714 239.60843973\n",
            "  57.72622316 120.55335061 130.60379626 212.72008412  86.50522501\n",
            " 180.66760871 206.79673175 127.64827898  69.54128953 144.97932275\n",
            " 142.00787907 167.54713552 206.43761974 104.03335274 151.21985916\n",
            " 243.98409662 184.89217368 235.51312961 179.01792783 175.10990905\n",
            " 214.61765469 136.90530792 163.36680034 171.60836335  93.3497279\n",
            " 172.78530292  93.96646133 225.69936583 110.55197566 201.74245067\n",
            " 286.90131495 193.51769884 176.5078012  266.83686962 154.88309322\n",
            " 120.96944191 139.13851891 183.29037381 127.98582252 150.55364361\n",
            " 125.60209601 218.10996977  74.29134034  99.53914982 214.17154924\n",
            " 204.13311929 153.26559458 188.14997277  42.29220427 105.57894493\n",
            " 192.58316746 232.46262174 141.71358874 108.5795067  158.75538766\n",
            " 163.95762281 179.5383941   95.2277318  184.07643267 152.70369597\n",
            "  54.22237442 187.20521361 244.8620086   92.13957043 172.62276148\n",
            "  72.54685782 127.06775895 176.3043855  190.19747686 150.48987881\n",
            " 102.96800711 246.67014039 203.04122649 136.99786414 240.3958626\n",
            " 104.08717036  59.54571606 137.79502974 168.61092878 169.3017427\n",
            " 157.41913798 152.37756125 145.11040118 163.50010399 102.33821076\n",
            " 158.15115402  81.76514218 216.03988288 264.43215127  80.57034572\n",
            " 114.25285788 164.17783545 187.16160935 206.60370728 146.28427151\n",
            " 203.8881529  157.97246612 217.51010549 162.05358309 150.7935493\n",
            " 223.80630069 121.47337165  68.36320647 224.90244029 187.51239256\n",
            " 148.33075006 248.32746763 122.58721002 176.91594678 200.33224465\n",
            " 179.90556513 190.06514662  46.94025212 115.39498717  78.95440558\n",
            "  86.02507996  65.81087361 101.13906231 189.84361277  86.37656232\n",
            " 253.63563143 119.84964931 155.5418789  181.38619102  75.06796426\n",
            " 136.4062107  186.98127964 181.86493839 120.99890948 119.20171538\n",
            "  91.95188104 210.69495584 150.86159529 186.81654362  29.84476633\n",
            " 108.98259567 166.61131363 170.17672399 212.57663011 170.606133\n",
            " 118.0342435  135.29547505 116.32638872 135.68336139  55.89311253\n",
            " 142.75056488  66.19684191 207.86191799  84.3262466  123.41887927\n",
            "  93.23339563 184.05498474  52.72215636 160.78630656 105.13548027\n",
            "  40.35394453 250.79888204 129.71008857 133.3314571  146.39899864\n",
            "  97.35619481 173.15248108  65.64444663 121.17977299 122.09256182\n",
            " 261.90285949 184.83320575 165.25651084  77.23517375 138.85426562\n",
            "  51.79707312 114.39672286 199.26365232  88.62387165 153.18468389\n",
            " 138.94323965 207.84719268 208.68677187 193.06125472 195.10236902\n",
            "  59.92907785 122.13338274 221.43704824 167.54224812 192.62636676\n",
            "  82.57578676 112.50244806 138.92760438 140.26192108 158.92803263\n",
            " 161.83525252  50.02224949 219.33903026 115.87396242 157.28334184\n",
            " 127.09792707 219.51094818 126.86949905 122.82666029 228.41899592\n",
            "  59.60531593 143.93307763 107.93767036 147.43357919 205.05762515\n",
            " 138.55527502 159.53127872 123.65274454 227.4454752  171.54108145\n",
            "  57.58273724 174.21921186 147.79712506 184.10515615 179.79285926\n",
            " 111.80405496 124.66157702 188.982328   226.19339773  67.30564993\n",
            " 144.61572887  95.41660132 227.80944913  78.7710566  194.38085437\n",
            " 277.44458023  99.80058164 144.01095064 110.93232837 254.48140818\n",
            " 148.064306    85.1732511   96.19699989  95.25201244  85.49489011\n",
            " 127.40271429  83.12255823 233.23908417 167.11959111 114.34004901\n",
            "  96.91839987 125.15402975 125.47564938  67.17636391 189.0149898\n",
            " 121.39391869  94.93092975 193.16940779 164.40045787 125.66226136\n",
            "  82.53026462 138.07655401  91.30837229 113.82575239 181.95893183\n",
            " 119.1380571  251.94644694 126.39163592  75.09805973 171.78284642\n",
            " 158.29247255 199.69056513 117.47214238  90.99033788 187.36626515\n",
            " 171.81583578 237.51027907  70.85818759 142.13320321 202.02286587\n",
            " 189.93591886 175.80065703 156.10708462 161.67550433 174.40943926\n",
            " 222.35799629 181.79939264 132.61047345 208.23531606 231.65148576\n",
            " 168.38936248 205.33049213 114.8252438 ] [ 94.38093663 164.89621065 116.60316849 171.18620984 101.13179309\n",
            "  73.06620673 108.90602086 109.60747234 197.21814745 135.47934373\n",
            " 120.56386488 169.13769685 164.06545937 168.90203768 190.56296986\n",
            " 152.58674337 151.13069361  80.32123579  55.27856462 210.17524522\n",
            " 232.04139494 146.48183947  59.83760758 121.80065119 239.63954522\n",
            " 246.41304126 208.02031717 105.51477816 252.73246404 125.50048748\n",
            "  98.01272464 123.13223056 139.63102234 161.00467005  99.14317501\n",
            " 130.21231296 110.13391377 129.7368349  233.0216927  117.708556\n",
            "  56.85130701 155.35932707 152.4534446  186.74134634 246.08295705\n",
            " 208.41841965 232.11918779 220.51551069 163.95936996 258.44477142\n",
            " 171.0315246  139.90483244  90.97331478  79.95723058  76.3050789\n",
            " 188.96361188 215.49206335 151.51423127 101.43091384 170.90411866\n",
            " 112.98449733  52.1127037  154.16847873 258.01187385 112.03070051\n",
            " 149.70757049 168.32083377 219.21262948 100.34555218 107.88733594\n",
            " 100.271252   133.7807318  139.02975499 193.79541314  57.87984861\n",
            "  62.92807365  99.19395331  73.92303861 174.59522259 126.01546367\n",
            " 188.16094104 140.30350932 145.2187433  240.73018635 184.31641757\n",
            " 120.92789013  72.28795847 154.05807574 123.57281726]\n"
          ]
        }
      ]
    },
    {
      "cell_type": "code",
      "source": [
        "from sklearn.metrics import mean_squared_error\n",
        "\n",
        "train_mse = mean_squared_error(train_pred, train_y)\n",
        "test_mse = mean_squared_error(test_pred, test_y)\n",
        "print(train_mse, test_mse)"
      ],
      "metadata": {
        "colab": {
          "base_uri": "https://localhost:8080/"
        },
        "id": "1TZUhZL3zlM7",
        "outputId": "1b6d863c-fb28-46ed-c3f6-ee36bfb0e667"
      },
      "execution_count": null,
      "outputs": [
        {
          "output_type": "stream",
          "name": "stdout",
          "text": [
            "2923.3363802585836 2676.3157311274967\n"
          ]
        }
      ]
    }
  ]
}